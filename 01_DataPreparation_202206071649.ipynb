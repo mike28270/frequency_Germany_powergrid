{
 "cells": [
  {
   "cell_type": "code",
   "execution_count": 1,
   "id": "1f6ad3b2",
   "metadata": {},
   "outputs": [],
   "source": [
    "import pandas as pd\n",
    "from datetime import datetime\n",
    "import matplotlib.pyplot as plt\n",
    "import seaborn as sns\n",
    "import calplot\n",
    "import numpy as np\n",
    "from calendar import monthrange\n",
    "from matplotlib.cm import ScalarMappable\n",
    "import matplotlib.colors as mc # For the legend\n",
    "from matplotlib.dates import AutoDateLocator, AutoDateFormatter, date2num, DateFormatter, HourLocator, MinuteLocator\n",
    "import os.path\n",
    "\n",
    "import ap1"
   ]
  },
  {
   "cell_type": "code",
   "execution_count": 2,
   "id": "b9f444c9",
   "metadata": {},
   "outputs": [
    {
     "data": {
      "text/plain": [
       "<module 'ap1' from '/Users/kritkorns/Mike/Jacob/AdvancedProject1/01_Lab/ap1.py'>"
      ]
     },
     "execution_count": 2,
     "metadata": {},
     "output_type": "execute_result"
    }
   ],
   "source": [
    "import importlib\n",
    "importlib.reload(ap1)"
   ]
  },
  {
   "cell_type": "code",
   "execution_count": 3,
   "id": "33f48fd8",
   "metadata": {},
   "outputs": [
    {
     "name": "stdout",
     "output_type": "stream",
     "text": [
      "The file /Users/kritkorns/Mike/Jacob/AdvancedProject1/dataset/Germany/2012.csv is exist.\n",
      "The file /Users/kritkorns/Mike/Jacob/AdvancedProject1/dataset/Germany/2013.csv is exist.\n",
      "The file /Users/kritkorns/Mike/Jacob/AdvancedProject1/dataset/Germany/2014.csv is exist.\n",
      "The file /Users/kritkorns/Mike/Jacob/AdvancedProject1/dataset/Germany/2015.csv is exist.\n",
      "The file /Users/kritkorns/Mike/Jacob/AdvancedProject1/dataset/Germany/2016.csv is exist.\n",
      "The file /Users/kritkorns/Mike/Jacob/AdvancedProject1/dataset/Germany/2017.csv is exist.\n",
      "The file /Users/kritkorns/Mike/Jacob/AdvancedProject1/dataset/Germany/2018.csv is exist.\n",
      "The file /Users/kritkorns/Mike/Jacob/AdvancedProject1/dataset/Germany/2019.csv is exist.\n",
      "The file /Users/kritkorns/Mike/Jacob/AdvancedProject1/dataset/Germany/2020.csv is exist.\n"
     ]
    }
   ],
   "source": [
    "years = range(2012, 2021)\n",
    "#years = range(2012, 2013)\n",
    "\n",
    "path = '/Users/kritkorns/Mike/Jacob/AdvancedProject1/01_Lab/dataset'\n",
    "for year in years:\n",
    "    file = '{}/Germany/{}.csv'.format(path,year)\n",
    "    if not(os.path.exists(file)):\n",
    "        print('Insert file {}'.format(file))\n",
    "        df_temp = ap1.readCSV_fromYear(year) \n",
    "        df_temp = ap1.seperateDatetime(df_temp)\n",
    "        df_temp = df_temp.rename(columns={\"Unnamed: 0\": \"Datetime\"})\n",
    "        df_temp.to_csv(file, index=False)\n",
    "    else:\n",
    "        print('The file {} is exist.'.format(file))"
   ]
  },
  {
   "cell_type": "code",
   "execution_count": 5,
   "id": "cb9bf565",
   "metadata": {},
   "outputs": [
    {
     "name": "stdout",
     "output_type": "stream",
     "text": [
      "Insert file /Users/kritkorns/Mike/Jacob/AdvancedProject1/01_Lab/dataset/France/2014.csv\n",
      "Insert file /Users/kritkorns/Mike/Jacob/AdvancedProject1/01_Lab/dataset/France/2015.csv\n",
      "Insert file /Users/kritkorns/Mike/Jacob/AdvancedProject1/01_Lab/dataset/France/2016.csv\n",
      "Insert file /Users/kritkorns/Mike/Jacob/AdvancedProject1/01_Lab/dataset/France/2017.csv\n",
      "Insert file /Users/kritkorns/Mike/Jacob/AdvancedProject1/01_Lab/dataset/France/2018.csv\n",
      "Insert file /Users/kritkorns/Mike/Jacob/AdvancedProject1/01_Lab/dataset/France/2019.csv\n",
      "Insert file /Users/kritkorns/Mike/Jacob/AdvancedProject1/01_Lab/dataset/France/2020.csv\n"
     ]
    }
   ],
   "source": [
    "years = range(2014, 2021)\n",
    "#years = range(2012, 2013)\n",
    "\n",
    "path = '/Users/kritkorns/Mike/Jacob/AdvancedProject1/01_Lab/dataset'\n",
    "for year in years:\n",
    "    file = '{}/France/{}.csv'.format(path,year)\n",
    "    if not(os.path.exists(file)):\n",
    "        print('Insert file {}'.format(file))\n",
    "        df_temp = ap1.readCSV_fromYear(year) \n",
    "        df_temp = ap1.seperateDatetime(df_temp)\n",
    "        df_temp = df_temp.rename(columns={\"Unnamed: 0\": \"Datetime\"})\n",
    "        df_temp.to_csv(file, index=False)\n",
    "    else:\n",
    "        print('The file {} is exist.'.format(file))"
   ]
  },
  {
   "cell_type": "markdown",
   "id": "717bcaea",
   "metadata": {},
   "source": [
    "## 2.1 Connect to MySQL server"
   ]
  },
  {
   "cell_type": "code",
   "execution_count": 4,
   "id": "1ed71948",
   "metadata": {},
   "outputs": [],
   "source": [
    "from sqlalchemy import create_engine\n",
    "import json\n",
    "\n",
    "# Use a JSON file to hide MySQL credentials a little bit.\n",
    "parameters_file = open('MySQLparameter.json')\n",
    "parameters_value = json.load(parameters_file)\n",
    "parameters_file.close()\n",
    "\n",
    "db_str = ('mysql+pymysql://{user}:{password}@{host}:{port}').format(**parameters_value)\n",
    "\n",
    "\n",
    "# Create the connection\n",
    "db_connection = create_engine(db_str)\n"
   ]
  },
  {
   "cell_type": "markdown",
   "id": "cf037379",
   "metadata": {},
   "source": [
    "## MySQL Configuration"
   ]
  },
  {
   "cell_type": "code",
   "execution_count": 5,
   "id": "98b26ef8",
   "metadata": {},
   "outputs": [
    {
     "data": {
      "text/plain": [
       "\"Command excuted - SET GLOBAL sql_mode = '';\""
      ]
     },
     "execution_count": 5,
     "metadata": {},
     "output_type": "execute_result"
    }
   ],
   "source": [
    "command = \"SET GLOBAL sql_mode = '';\"\n",
    "ap1.executeCommand(db_connection, command)"
   ]
  },
  {
   "cell_type": "markdown",
   "id": "7c7c370f",
   "metadata": {},
   "source": [
    "## Create and Use Database"
   ]
  },
  {
   "cell_type": "code",
   "execution_count": 6,
   "id": "c139797a",
   "metadata": {},
   "outputs": [
    {
     "name": "stdout",
     "output_type": "stream",
     "text": [
      "Command fail - (pymysql.err.ProgrammingError) (1007, \"Can't create database 'powergrid'; database exists\")\n",
      "[SQL: CREATE DATABASE powergrid;]\n",
      "(Background on this error at: https://sqlalche.me/e/14/f405)\n",
      "\n",
      "Command excuted - USE powergrid\n"
     ]
    }
   ],
   "source": [
    "database_name = 'powergrid'\n",
    "print(ap1.createDatabase(db_connection, database_name)+'\\n')\n",
    "print(ap1.useDatabase(db_connection, database_name))"
   ]
  },
  {
   "cell_type": "markdown",
   "id": "53d3ca0b",
   "metadata": {},
   "source": [
    "## Create Table"
   ]
  },
  {
   "cell_type": "code",
   "execution_count": 7,
   "id": "5928cc32",
   "metadata": {},
   "outputs": [
    {
     "name": "stdout",
     "output_type": "stream",
     "text": [
      "Command fail - (pymysql.err.OperationalError) (1050, \"Table 'Germany' already exists\")\n",
      "[SQL: CREATE TABLE Germany (\n",
      "        Datetime TIMESTAMP UNIQUE,\n",
      "        Frequency DECIMAL(15,5),\n",
      "        year INT,\n",
      "        month INT,\n",
      "        day INT,\n",
      "        hour INT,\n",
      "        minute INT,\n",
      "        second INT\n",
      "        )]\n",
      "(Background on this error at: https://sqlalche.me/e/14/e3q8)\n"
     ]
    }
   ],
   "source": [
    "column_names = ['Datetime', 'Frequency', 'year',\n",
    "                 'month', 'day', 'hour', \n",
    "                 'minute', 'second']\n",
    "table_name = 'Germany'\n",
    "\n",
    "print(ap1.createTableGeneration(db_connection, column_names, table_name))\n"
   ]
  },
  {
   "cell_type": "markdown",
   "id": "dc8dbde6",
   "metadata": {},
   "source": [
    "## Import Data"
   ]
  },
  {
   "cell_type": "code",
   "execution_count": 17,
   "id": "051eb68e",
   "metadata": {},
   "outputs": [
    {
     "name": "stdout",
     "output_type": "stream",
     "text": [
      "Command fail - (pymysql.err.IntegrityError) (1062, \"Duplicate entry '2012-01-01 00:00:00' for key 'Germany.Datetime'\")\n",
      "[SQL: \n",
      "    LOAD DATA INFILE '/data/2012.csv'\n",
      "    INTO TABLE Germany\n",
      "    FIELDS TERMINATED BY ','\n",
      "    ENCLOSED BY '\"'\n",
      "    LINES TERMINATED BY '\n",
      "'\n",
      "    IGNORE 1 ROWS;\n",
      "    ]\n",
      "(Background on this error at: https://sqlalche.me/e/14/gkpj)\n",
      "Command excuted - \n",
      "    LOAD DATA INFILE '/data/2013.csv'\n",
      "    INTO TABLE Germany\n",
      "    FIELDS TERMINATED BY ','\n",
      "    ENCLOSED BY '\"'\n",
      "    LINES TERMINATED BY '\n",
      "'\n",
      "    IGNORE 1 ROWS;\n",
      "    \n",
      "Command excuted - \n",
      "    LOAD DATA INFILE '/data/2014.csv'\n",
      "    INTO TABLE Germany\n",
      "    FIELDS TERMINATED BY ','\n",
      "    ENCLOSED BY '\"'\n",
      "    LINES TERMINATED BY '\n",
      "'\n",
      "    IGNORE 1 ROWS;\n",
      "    \n",
      "Command excuted - \n",
      "    LOAD DATA INFILE '/data/2015.csv'\n",
      "    INTO TABLE Germany\n",
      "    FIELDS TERMINATED BY ','\n",
      "    ENCLOSED BY '\"'\n",
      "    LINES TERMINATED BY '\n",
      "'\n",
      "    IGNORE 1 ROWS;\n",
      "    \n",
      "Command excuted - \n",
      "    LOAD DATA INFILE '/data/2016.csv'\n",
      "    INTO TABLE Germany\n",
      "    FIELDS TERMINATED BY ','\n",
      "    ENCLOSED BY '\"'\n",
      "    LINES TERMINATED BY '\n",
      "'\n",
      "    IGNORE 1 ROWS;\n",
      "    \n",
      "Command excuted - \n",
      "    LOAD DATA INFILE '/data/2017.csv'\n",
      "    INTO TABLE Germany\n",
      "    FIELDS TERMINATED BY ','\n",
      "    ENCLOSED BY '\"'\n",
      "    LINES TERMINATED BY '\n",
      "'\n",
      "    IGNORE 1 ROWS;\n",
      "    \n",
      "Command excuted - \n",
      "    LOAD DATA INFILE '/data/2018.csv'\n",
      "    INTO TABLE Germany\n",
      "    FIELDS TERMINATED BY ','\n",
      "    ENCLOSED BY '\"'\n",
      "    LINES TERMINATED BY '\n",
      "'\n",
      "    IGNORE 1 ROWS;\n",
      "    \n",
      "Command excuted - \n",
      "    LOAD DATA INFILE '/data/2019.csv'\n",
      "    INTO TABLE Germany\n",
      "    FIELDS TERMINATED BY ','\n",
      "    ENCLOSED BY '\"'\n",
      "    LINES TERMINATED BY '\n",
      "'\n",
      "    IGNORE 1 ROWS;\n",
      "    \n",
      "Command excuted - \n",
      "    LOAD DATA INFILE '/data/2020.csv'\n",
      "    INTO TABLE Germany\n",
      "    FIELDS TERMINATED BY ','\n",
      "    ENCLOSED BY '\"'\n",
      "    LINES TERMINATED BY '\n",
      "'\n",
      "    IGNORE 1 ROWS;\n",
      "    \n"
     ]
    }
   ],
   "source": [
    "years = range(2012, 2021)\n",
    "\n",
    "for year in years:\n",
    "    file_path = '/data/{}.csv'.format(year)\n",
    "    print(ap1.importData(db_connection, file_path, table_name))"
   ]
  }
 ],
 "metadata": {
  "kernelspec": {
   "display_name": "Python 3",
   "language": "python",
   "name": "python3"
  },
  "language_info": {
   "codemirror_mode": {
    "name": "ipython",
    "version": 3
   },
   "file_extension": ".py",
   "mimetype": "text/x-python",
   "name": "python",
   "nbconvert_exporter": "python",
   "pygments_lexer": "ipython3",
   "version": "3.6.13"
  }
 },
 "nbformat": 4,
 "nbformat_minor": 5
}
